{
 "cells": [
  {
   "cell_type": "code",
   "execution_count": null,
   "id": "bec13173",
   "metadata": {},
   "outputs": [],
   "source": [
    "import glob, torch\n",
    "import matplotlib.pyplot as plt\n",
    "\n",
    "files = sorted(glob.glob(\"checkpoints/run-*.pt\"))\n",
    "\n",
    "iters, losses, agree, kl = [], [], [], []\n",
    "\n",
    "for f in files:\n",
    "    ckpt = torch.load(f, map_location=\"cpu\", weights_only=False)\n",
    "    s = ckpt.get(\"stats\", {})\n",
    "    if not s: \n",
    "        continue\n",
    "    iters.append(s[\"iter\"])\n",
    "    losses.append(s[\"loss\"])\n",
    "    agree.append(s[\"policy_top1_agree\"])\n",
    "    kl.append(s[\"policy_kl\"])\n",
    "\n",
    "plt.figure(figsize=(6, 2))\n",
    "plt.plot(iters, losses)\n",
    "plt.xlabel(\"iteration\")\n",
    "plt.ylabel(\"loss\")\n",
    "plt.title(\"training loss (down is better)\")\n",
    "plt.show()\n",
    "\n",
    "plt.figure(figsize=(6, 2))\n",
    "plt.plot(iters, agree)\n",
    "plt.ylim(0, 1)\n",
    "plt.xlabel(\"iteration\")\n",
    "plt.ylabel(\"policy top1 agreement\")\n",
    "plt.title(\"Model agreement with MCTS (up is better)\")\n",
    "plt.show()\n",
    "\n",
    "plt.figure(figsize=(6, 2))\n",
    "plt.plot(iters, kl)\n",
    "plt.xlabel(\"iteration\")\n",
    "plt.ylabel(\"KL(MCTS || net)\")\n",
    "plt.title(\"Policy KL to MCTS (down is better)\")\n",
    "plt.show()"
   ]
  }
 ],
 "metadata": {
  "kernelspec": {
   "display_name": "default",
   "language": "python",
   "name": "python3"
  },
  "language_info": {
   "codemirror_mode": {
    "name": "ipython",
    "version": 3
   },
   "file_extension": ".py",
   "mimetype": "text/x-python",
   "name": "python",
   "nbconvert_exporter": "python",
   "pygments_lexer": "ipython3",
   "version": "3.13.6"
  }
 },
 "nbformat": 4,
 "nbformat_minor": 5
}
